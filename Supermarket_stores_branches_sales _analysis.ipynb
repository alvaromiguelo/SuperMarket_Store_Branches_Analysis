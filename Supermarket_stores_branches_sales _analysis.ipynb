{
 "cells": [
  {
   "cell_type": "code",
   "execution_count": 1,
   "id": "a4532f5e-f78e-45b3-91a9-12da395b5d65",
   "metadata": {},
   "outputs": [],
   "source": [
    "import pandas as pd\n",
    "import numpy as np\n",
    "import matplotlib.pyplot as plt\n",
    "import seaborn as sns"
   ]
  },
  {
   "cell_type": "code",
   "execution_count": 2,
   "id": "7fb77174-debf-4655-9e7a-00661784e569",
   "metadata": {},
   "outputs": [
    {
     "data": {
      "text/html": [
       "<div>\n",
       "<style scoped>\n",
       "    .dataframe tbody tr th:only-of-type {\n",
       "        vertical-align: middle;\n",
       "    }\n",
       "\n",
       "    .dataframe tbody tr th {\n",
       "        vertical-align: top;\n",
       "    }\n",
       "\n",
       "    .dataframe thead th {\n",
       "        text-align: right;\n",
       "    }\n",
       "</style>\n",
       "<table border=\"1\" class=\"dataframe\">\n",
       "  <thead>\n",
       "    <tr style=\"text-align: right;\">\n",
       "      <th></th>\n",
       "      <th>Store ID</th>\n",
       "      <th>Store_Area</th>\n",
       "      <th>Items_Available</th>\n",
       "      <th>Daily_Customer_Count</th>\n",
       "      <th>Store_Sales</th>\n",
       "    </tr>\n",
       "  </thead>\n",
       "  <tbody>\n",
       "    <tr>\n",
       "      <th>0</th>\n",
       "      <td>1</td>\n",
       "      <td>1659</td>\n",
       "      <td>1961</td>\n",
       "      <td>530</td>\n",
       "      <td>66490</td>\n",
       "    </tr>\n",
       "    <tr>\n",
       "      <th>1</th>\n",
       "      <td>2</td>\n",
       "      <td>1461</td>\n",
       "      <td>1752</td>\n",
       "      <td>210</td>\n",
       "      <td>39820</td>\n",
       "    </tr>\n",
       "    <tr>\n",
       "      <th>2</th>\n",
       "      <td>3</td>\n",
       "      <td>1340</td>\n",
       "      <td>1609</td>\n",
       "      <td>720</td>\n",
       "      <td>54010</td>\n",
       "    </tr>\n",
       "    <tr>\n",
       "      <th>3</th>\n",
       "      <td>4</td>\n",
       "      <td>1451</td>\n",
       "      <td>1748</td>\n",
       "      <td>620</td>\n",
       "      <td>53730</td>\n",
       "    </tr>\n",
       "    <tr>\n",
       "      <th>4</th>\n",
       "      <td>5</td>\n",
       "      <td>1770</td>\n",
       "      <td>2111</td>\n",
       "      <td>450</td>\n",
       "      <td>46620</td>\n",
       "    </tr>\n",
       "  </tbody>\n",
       "</table>\n",
       "</div>"
      ],
      "text/plain": [
       "   Store ID   Store_Area  Items_Available  Daily_Customer_Count  Store_Sales\n",
       "0          1        1659             1961                   530        66490\n",
       "1          2        1461             1752                   210        39820\n",
       "2          3        1340             1609                   720        54010\n",
       "3          4        1451             1748                   620        53730\n",
       "4          5        1770             2111                   450        46620"
      ]
     },
     "execution_count": 2,
     "metadata": {},
     "output_type": "execute_result"
    }
   ],
   "source": [
    "stores = pd.read_csv('Stores.csv')\n",
    "stores.head()"
   ]
  },
  {
   "cell_type": "markdown",
   "id": "f574d9c0-8ae2-4f6c-b178-0b7253e354ba",
   "metadata": {},
   "source": [
    "## EDA - Exploratory Data Analysis"
   ]
  },
  {
   "cell_type": "markdown",
   "id": "778e7388-afcb-43b2-8166-71b99eef3c16",
   "metadata": {},
   "source": [
    "Checking the Null Values in the DataSet"
   ]
  },
  {
   "cell_type": "code",
   "execution_count": 3,
   "id": "e8b56c97-f522-476b-b19a-1af4ca51d3da",
   "metadata": {},
   "outputs": [
    {
     "data": {
      "text/plain": [
       "Store ID                0\n",
       "Store_Area              0\n",
       "Items_Available         0\n",
       "Daily_Customer_Count    0\n",
       "Store_Sales             0\n",
       "dtype: int64"
      ]
     },
     "execution_count": 3,
     "metadata": {},
     "output_type": "execute_result"
    }
   ],
   "source": [
    "stores.isna().sum()"
   ]
  },
  {
   "cell_type": "markdown",
   "id": "444a7b04-7f25-4569-9425-991ac36180d6",
   "metadata": {},
   "source": [
    "Checking if we have outliers"
   ]
  },
  {
   "cell_type": "code",
   "execution_count": 4,
   "id": "f044dc01-b3d3-488a-b2d2-1b29de08a1d4",
   "metadata": {},
   "outputs": [
    {
     "data": {
      "text/plain": [
       "<AxesSubplot:>"
      ]
     },
     "execution_count": 4,
     "metadata": {},
     "output_type": "execute_result"
    },
    {
     "data": {
      "image/png": "[encoded data removed]",
      "text/plain": [
       "<Figure size 432x288 with 1 Axes>"
      ]
     },
     "metadata": {
      "needs_background": "light"
     },
     "output_type": "display_data"
    }
   ],
   "source": [
    "sns.boxplot(data = stores[['Store_Area','Items_Available','Daily_Customer_Count']])"
   ]
  },
  {
   "cell_type": "code",
   "execution_count": 5,
   "id": "dc204bfc-c940-4dee-8c85-19c407117400",
   "metadata": {},
   "outputs": [
    {
     "data": {
      "text/plain": [
       "<AxesSubplot:>"
      ]
     },
     "execution_count": 5,
     "metadata": {},
     "output_type": "execute_result"
    },
    {
     "data": {
      "image/png": "[encoded data removed]",
      "text/plain": [
       "<Figure size 432x288 with 1 Axes>"
      ]
     },
     "metadata": {
      "needs_background": "light"
     },
     "output_type": "display_data"
    }
   ],
   "source": [
    "sns.boxplot(data = stores['Store_Sales'])"
   ]
  },
  {
   "cell_type": "code",
   "execution_count": 6,
   "id": "90bdc8ff-5fdd-4308-bfc3-fc5385270f79",
   "metadata": {},
   "outputs": [],
   "source": [
    "def remove_outliers(df, cols): #Accepts a dataframe and a list of columns\n",
    "    Q1 = stores[cols].quantile(0.25)\n",
    "    Q3 = stores[cols].quantile(0.75)\n",
    "    IQR = Q3 - Q1\n",
    "\n",
    "    df = df[~((df[cols] < (Q1 - 1.5 * IQR)) |(df[cols] > (Q3 + 1.5 * IQR))).any(axis=1)]\n",
    "    return df"
   ]
  },
  {
   "cell_type": "code",
   "execution_count": 7,
   "id": "14c09a0c-4807-438d-ab04-06fa90f430ba",
   "metadata": {},
   "outputs": [
    {
     "data": {
      "text/html": [
       "<div>\n",
       "<style scoped>\n",
       "    .dataframe tbody tr th:only-of-type {\n",
       "        vertical-align: middle;\n",
       "    }\n",
       "\n",
       "    .dataframe tbody tr th {\n",
       "        vertical-align: top;\n",
       "    }\n",
       "\n",
       "    .dataframe thead th {\n",
       "        text-align: right;\n",
       "    }\n",
       "</style>\n",
       "<table border=\"1\" class=\"dataframe\">\n",
       "  <thead>\n",
       "    <tr style=\"text-align: right;\">\n",
       "      <th></th>\n",
       "      <th>Store ID</th>\n",
       "      <th>Store_Area</th>\n",
       "      <th>Items_Available</th>\n",
       "      <th>Daily_Customer_Count</th>\n",
       "      <th>Store_Sales</th>\n",
       "    </tr>\n",
       "  </thead>\n",
       "  <tbody>\n",
       "    <tr>\n",
       "      <th>0</th>\n",
       "      <td>1</td>\n",
       "      <td>1659</td>\n",
       "      <td>1961</td>\n",
       "      <td>530</td>\n",
       "      <td>66490</td>\n",
       "    </tr>\n",
       "    <tr>\n",
       "      <th>1</th>\n",
       "      <td>2</td>\n",
       "      <td>1461</td>\n",
       "      <td>1752</td>\n",
       "      <td>210</td>\n",
       "      <td>39820</td>\n",
       "    </tr>\n",
       "    <tr>\n",
       "      <th>2</th>\n",
       "      <td>3</td>\n",
       "      <td>1340</td>\n",
       "      <td>1609</td>\n",
       "      <td>720</td>\n",
       "      <td>54010</td>\n",
       "    </tr>\n",
       "    <tr>\n",
       "      <th>3</th>\n",
       "      <td>4</td>\n",
       "      <td>1451</td>\n",
       "      <td>1748</td>\n",
       "      <td>620</td>\n",
       "      <td>53730</td>\n",
       "    </tr>\n",
       "    <tr>\n",
       "      <th>4</th>\n",
       "      <td>5</td>\n",
       "      <td>1770</td>\n",
       "      <td>2111</td>\n",
       "      <td>450</td>\n",
       "      <td>46620</td>\n",
       "    </tr>\n",
       "  </tbody>\n",
       "</table>\n",
       "</div>"
      ],
      "text/plain": [
       "   Store ID   Store_Area  Items_Available  Daily_Customer_Count  Store_Sales\n",
       "0          1        1659             1961                   530        66490\n",
       "1          2        1461             1752                   210        39820\n",
       "2          3        1340             1609                   720        54010\n",
       "3          4        1451             1748                   620        53730\n",
       "4          5        1770             2111                   450        46620"
      ]
     },
     "execution_count": 7,
     "metadata": {},
     "output_type": "execute_result"
    }
   ],
   "source": [
    "stores = remove_outliers(stores, ['Store_Area','Items_Available','Daily_Customer_Count', 'Store_Sales'])\n",
    "stores.head()"
   ]
  },
  {
   "cell_type": "markdown",
   "id": "7354c855-6992-48ff-92e0-e89828346e6e",
   "metadata": {},
   "source": [
    "Check if the outliers were removed"
   ]
  },
  {
   "cell_type": "code",
   "execution_count": 8,
   "id": "5c443715-f856-49f6-b875-51307bc1c482",
   "metadata": {},
   "outputs": [
    {
     "data": {
      "text/plain": [
       "<AxesSubplot:>"
      ]
     },
     "execution_count": 8,
     "metadata": {},
     "output_type": "execute_result"
    },
    {
     "data": {
      "image/png": "[encoded data removed]",
      "text/plain": [
       "<Figure size 432x288 with 1 Axes>"
      ]
     },
     "metadata": {
      "needs_background": "light"
     },
     "output_type": "display_data"
    }
   ],
   "source": [
    "sns.boxplot(data = stores[['Store_Area','Items_Available','Daily_Customer_Count']])"
   ]
  },
  {
   "cell_type": "markdown",
   "id": "0c149ad8-2797-4ed0-bffa-36573b5f3046",
   "metadata": {},
   "source": [
    "Let's verify if we have some correlation between the variables\n",
    "\n",
    "We will set the Store ID as an index!"
   ]
  },
  {
   "cell_type": "code",
   "execution_count": 9,
   "id": "3f6e9241-0edb-41f7-9da4-1384149e2a36",
   "metadata": {},
   "outputs": [],
   "source": [
    "stores.set_index('Store ID ',inplace = True)"
   ]
  },
  {
   "cell_type": "code",
   "execution_count": 10,
   "id": "6d0404c3-20ef-4b0e-a12b-097dde427a7a",
   "metadata": {},
   "outputs": [
    {
     "data": {
      "text/plain": [
       "<AxesSubplot:>"
      ]
     },
     "execution_count": 10,
     "metadata": {},
     "output_type": "execute_result"
    },
    {
     "data": {
      "image/png": "[encoded data removed]",
      "text/plain": [
       "<Figure size 432x288 with 2 Axes>"
      ]
     },
     "metadata": {
      "needs_background": "light"
     },
     "output_type": "display_data"
    }
   ],
   "source": [
    "sns.heatmap(stores.corr(), annot = True)"
   ]
  },
  {
   "cell_type": "markdown",
   "id": "a8b36cfa-3a69-4e32-94ae-8d1393eae1b2",
   "metadata": {},
   "source": [
    "So, we have perfect correlation between store area and items available, what makes sense.\n",
    "\n",
    "However the total customers daily has a very weak correlation with the total Sales."
   ]
  },
  {
   "cell_type": "markdown",
   "id": "08ff261b-539c-4b80-bb3b-3a36e1f28a83",
   "metadata": {},
   "source": [
    "## Customer vs Sales & Items Available vs Sales"
   ]
  },
  {
   "cell_type": "code",
   "execution_count": 101,
   "id": "dd447e64-523f-4345-84c0-cd228dd1323f",
   "metadata": {},
   "outputs": [
    {
     "data": {
      "text/html": [
       "<div>\n",
       "<style scoped>\n",
       "    .dataframe tbody tr th:only-of-type {\n",
       "        vertical-align: middle;\n",
       "    }\n",
       "\n",
       "    .dataframe tbody tr th {\n",
       "        vertical-align: top;\n",
       "    }\n",
       "\n",
       "    .dataframe thead th {\n",
       "        text-align: right;\n",
       "    }\n",
       "</style>\n",
       "<table border=\"1\" class=\"dataframe\">\n",
       "  <thead>\n",
       "    <tr style=\"text-align: right;\">\n",
       "      <th></th>\n",
       "      <th>Store_Area</th>\n",
       "      <th>Items_Available</th>\n",
       "      <th>Daily_Customer_Count</th>\n",
       "      <th>Store_Sales</th>\n",
       "      <th>Sales_per_Customer_Store</th>\n",
       "      <th>Sales_per_Area</th>\n",
       "      <th>Sales_per_Items_Available</th>\n",
       "    </tr>\n",
       "    <tr>\n",
       "      <th>Store ID</th>\n",
       "      <th></th>\n",
       "      <th></th>\n",
       "      <th></th>\n",
       "      <th></th>\n",
       "      <th></th>\n",
       "      <th></th>\n",
       "      <th></th>\n",
       "    </tr>\n",
       "  </thead>\n",
       "  <tbody>\n",
       "    <tr>\n",
       "      <th>1</th>\n",
       "      <td>1659</td>\n",
       "      <td>1961</td>\n",
       "      <td>530</td>\n",
       "      <td>66490</td>\n",
       "      <td>125.452830</td>\n",
       "      <td>40.078360</td>\n",
       "      <td>33.906170</td>\n",
       "    </tr>\n",
       "    <tr>\n",
       "      <th>2</th>\n",
       "      <td>1461</td>\n",
       "      <td>1752</td>\n",
       "      <td>210</td>\n",
       "      <td>39820</td>\n",
       "      <td>189.619048</td>\n",
       "      <td>27.255305</td>\n",
       "      <td>22.728311</td>\n",
       "    </tr>\n",
       "    <tr>\n",
       "      <th>3</th>\n",
       "      <td>1340</td>\n",
       "      <td>1609</td>\n",
       "      <td>720</td>\n",
       "      <td>54010</td>\n",
       "      <td>75.013889</td>\n",
       "      <td>40.305970</td>\n",
       "      <td>33.567433</td>\n",
       "    </tr>\n",
       "    <tr>\n",
       "      <th>4</th>\n",
       "      <td>1451</td>\n",
       "      <td>1748</td>\n",
       "      <td>620</td>\n",
       "      <td>53730</td>\n",
       "      <td>86.661290</td>\n",
       "      <td>37.029635</td>\n",
       "      <td>30.737986</td>\n",
       "    </tr>\n",
       "    <tr>\n",
       "      <th>5</th>\n",
       "      <td>1770</td>\n",
       "      <td>2111</td>\n",
       "      <td>450</td>\n",
       "      <td>46620</td>\n",
       "      <td>103.600000</td>\n",
       "      <td>26.338983</td>\n",
       "      <td>22.084320</td>\n",
       "    </tr>\n",
       "  </tbody>\n",
       "</table>\n",
       "</div>"
      ],
      "text/plain": [
       "           Store_Area  Items_Available  Daily_Customer_Count  Store_Sales  \\\n",
       "Store ID                                                                    \n",
       "1                1659             1961                   530        66490   \n",
       "2                1461             1752                   210        39820   \n",
       "3                1340             1609                   720        54010   \n",
       "4                1451             1748                   620        53730   \n",
       "5                1770             2111                   450        46620   \n",
       "\n",
       "           Sales_per_Customer_Store  Sales_per_Area  Sales_per_Items_Available  \n",
       "Store ID                                                                        \n",
       "1                        125.452830       40.078360                  33.906170  \n",
       "2                        189.619048       27.255305                  22.728311  \n",
       "3                         75.013889       40.305970                  33.567433  \n",
       "4                         86.661290       37.029635                  30.737986  \n",
       "5                        103.600000       26.338983                  22.084320  "
      ]
     },
     "execution_count": 101,
     "metadata": {},
     "output_type": "execute_result"
    }
   ],
   "source": [
    "stores['Sales_per_Customer_Store'] = stores['Store_Sales'] / stores['Daily_Customer_Count']\n",
    "stores['Sales_per_Area'] = stores['Store_Sales'] / stores['Store_Area']\n",
    "stores['Sales_per_Items_Available'] = stores['Store_Sales'] / stores['Items_Available']\n",
    "stores.head()"
   ]
  },
  {
   "cell_type": "code",
   "execution_count": 12,
   "id": "a562ea8d-02a1-4769-a156-3ea37fddf48e",
   "metadata": {},
   "outputs": [
    {
     "data": {
      "text/plain": [
       "<AxesSubplot:xlabel='Sales_per_Area', ylabel='Sales_per_Customer_Store'>"
      ]
     },
     "execution_count": 12,
     "metadata": {},
     "output_type": "execute_result"
    },
    {
     "data": {
      "image/png": "[encoded data removed]",
      "text/plain": [
       "<Figure size 432x288 with 1 Axes>"
      ]
     },
     "metadata": {
      "needs_background": "light"
     },
     "output_type": "display_data"
    }
   ],
   "source": [
    "sns.scatterplot(x='Sales_per_Area', y = 'Sales_per_Customer_Store', data = stores)"
   ]
  },
  {
   "cell_type": "code",
   "execution_count": 102,
   "id": "78c93070-5595-4324-a066-54f696eb1428",
   "metadata": {},
   "outputs": [
    {
     "data": {
      "text/plain": [
       "<AxesSubplot:>"
      ]
     },
     "execution_count": 102,
     "metadata": {},
     "output_type": "execute_result"
    },
    {
     "data": {
      "image/png": "[encoded data removed]",
      "text/plain": [
       "<Figure size 432x288 with 2 Axes>"
      ]
     },
     "metadata": {
      "needs_background": "light"
     },
     "output_type": "display_data"
    }
   ],
   "source": [
    "sns.heatmap(stores[['Sales_per_Customer_Store','Sales_per_Area','Sales_per_Items_Available']].corr(), annot = True)"
   ]
  },
  {
   "cell_type": "markdown",
   "id": "30c9ce66-a8a0-4b01-ad6c-81951ba38850",
   "metadata": {},
   "source": [
    "We conclude that we have a weak to moderate correlation between the sales per customer and sales per area, meaning that each customer in average spends more money in stores with bigger area."
   ]
  },
  {
   "cell_type": "markdown",
   "id": "51e80121-37c8-4e2e-a441-23594b6961ea",
   "metadata": {},
   "source": [
    "## Sales Predict - Linear Regression"
   ]
  },
  {
   "cell_type": "code",
   "execution_count": 90,
   "id": "91baa250-1d14-4098-b3a1-ef6e87ee4083",
   "metadata": {},
   "outputs": [],
   "source": [
    "from sklearn.model_selection import train_test_split, KFold, cross_val_score\n",
    "from sklearn.linear_model import LinearRegression, Ridge, Lasso\n",
    "from sklearn.preprocessing import StandardScaler\n",
    "from sklearn.pipeline import make_pipeline\n",
    "from sklearn.metrics import mean_squared_error\n",
    "from sklearn.model_selection import GridSearchCV"
   ]
  },
  {
   "cell_type": "code",
   "execution_count": 19,
   "id": "82773cd2-f847-4b3f-a5c7-e4ed48babd82",
   "metadata": {},
   "outputs": [
    {
     "data": {
      "text/html": [
       "<div>\n",
       "<style scoped>\n",
       "    .dataframe tbody tr th:only-of-type {\n",
       "        vertical-align: middle;\n",
       "    }\n",
       "\n",
       "    .dataframe tbody tr th {\n",
       "        vertical-align: top;\n",
       "    }\n",
       "\n",
       "    .dataframe thead th {\n",
       "        text-align: right;\n",
       "    }\n",
       "</style>\n",
       "<table border=\"1\" class=\"dataframe\">\n",
       "  <thead>\n",
       "    <tr style=\"text-align: right;\">\n",
       "      <th></th>\n",
       "      <th>Store_Area</th>\n",
       "      <th>Items_Available</th>\n",
       "      <th>Daily_Customer_Count</th>\n",
       "      <th>Store_Sales</th>\n",
       "      <th>Sales_per_Customer_Store</th>\n",
       "      <th>Sales_per_Area</th>\n",
       "    </tr>\n",
       "    <tr>\n",
       "      <th>Store ID</th>\n",
       "      <th></th>\n",
       "      <th></th>\n",
       "      <th></th>\n",
       "      <th></th>\n",
       "      <th></th>\n",
       "      <th></th>\n",
       "    </tr>\n",
       "  </thead>\n",
       "  <tbody>\n",
       "    <tr>\n",
       "      <th>1</th>\n",
       "      <td>1659</td>\n",
       "      <td>1961</td>\n",
       "      <td>530</td>\n",
       "      <td>66490</td>\n",
       "      <td>125.452830</td>\n",
       "      <td>40.078360</td>\n",
       "    </tr>\n",
       "    <tr>\n",
       "      <th>2</th>\n",
       "      <td>1461</td>\n",
       "      <td>1752</td>\n",
       "      <td>210</td>\n",
       "      <td>39820</td>\n",
       "      <td>189.619048</td>\n",
       "      <td>27.255305</td>\n",
       "    </tr>\n",
       "    <tr>\n",
       "      <th>3</th>\n",
       "      <td>1340</td>\n",
       "      <td>1609</td>\n",
       "      <td>720</td>\n",
       "      <td>54010</td>\n",
       "      <td>75.013889</td>\n",
       "      <td>40.305970</td>\n",
       "    </tr>\n",
       "    <tr>\n",
       "      <th>4</th>\n",
       "      <td>1451</td>\n",
       "      <td>1748</td>\n",
       "      <td>620</td>\n",
       "      <td>53730</td>\n",
       "      <td>86.661290</td>\n",
       "      <td>37.029635</td>\n",
       "    </tr>\n",
       "    <tr>\n",
       "      <th>5</th>\n",
       "      <td>1770</td>\n",
       "      <td>2111</td>\n",
       "      <td>450</td>\n",
       "      <td>46620</td>\n",
       "      <td>103.600000</td>\n",
       "      <td>26.338983</td>\n",
       "    </tr>\n",
       "  </tbody>\n",
       "</table>\n",
       "</div>"
      ],
      "text/plain": [
       "           Store_Area  Items_Available  Daily_Customer_Count  Store_Sales  \\\n",
       "Store ID                                                                    \n",
       "1                1659             1961                   530        66490   \n",
       "2                1461             1752                   210        39820   \n",
       "3                1340             1609                   720        54010   \n",
       "4                1451             1748                   620        53730   \n",
       "5                1770             2111                   450        46620   \n",
       "\n",
       "           Sales_per_Customer_Store  Sales_per_Area  \n",
       "Store ID                                             \n",
       "1                        125.452830       40.078360  \n",
       "2                        189.619048       27.255305  \n",
       "3                         75.013889       40.305970  \n",
       "4                         86.661290       37.029635  \n",
       "5                        103.600000       26.338983  "
      ]
     },
     "execution_count": 19,
     "metadata": {},
     "output_type": "execute_result"
    }
   ],
   "source": [
    "stores.head()"
   ]
  },
  {
   "cell_type": "markdown",
   "id": "76f50399-54cf-4efa-b8ac-c55eacc520b7",
   "metadata": {},
   "source": [
    "We will try to predict the sales using the original dataset, however as we saw above this will probably be a poor predicting, because the correlation is not that good."
   ]
  },
  {
   "cell_type": "code",
   "execution_count": 103,
   "id": "4d918c00-93b8-48f9-92f2-389a53d830e5",
   "metadata": {},
   "outputs": [
    {
     "name": "stdout",
     "output_type": "stream",
     "text": [
      "Predictions: [56995.77741741 56430.61339539], Actual Values: [49720 94370]\n"
     ]
    }
   ],
   "source": [
    "#Create arrays\n",
    "X = stores.drop(['Store_Sales','Sales_per_Customer_Store','Sales_per_Area','Sales_per_Items_Available'], axis = 'columns').values\n",
    "y = stores['Store_Sales'].values\n",
    "\n",
    "#Divide the data into train and datates\n",
    "X_train, X_test, y_train, y_test = train_test_split(X,y, test_size = 0.3, random_state = 42)\n",
    "\n",
    "#Start StandardScaler - Standardizing the data\n",
    "scaler = StandardScaler()\n",
    "\n",
    "#Start Linear Regression\n",
    "lreg = LinearRegression()\n",
    "\n",
    "#pipeline\n",
    "pipeline = make_pipeline(scaler,lreg)\n",
    "\n",
    "#Fit the model\n",
    "pipeline.fit(X_train, y_train)\n",
    "\n",
    "#Predict the values\n",
    "y_pred = pipeline.predict(X_test)\n",
    "\n",
    "print(\"Predictions: {}, Actual Values: {}\".format(y_pred[:2], y_test[:2]))"
   ]
  },
  {
   "cell_type": "markdown",
   "id": "6c65c141-3685-4365-96db-34d07bfd7c5e",
   "metadata": {},
   "source": [
    "Looking at the precdiction for two random sales. The first one is not good but the second one it's just ridiculous.\n",
    "\n",
    "To prove this let's calculate the R^2 and RMSE (Error difference between the predicted and the real values)."
   ]
  },
  {
   "cell_type": "code",
   "execution_count": 104,
   "id": "34b2ed52-a8bc-4298-8a6d-dabe400a807d",
   "metadata": {},
   "outputs": [
    {
     "name": "stdout",
     "output_type": "stream",
     "text": [
      "R^2: -0.0001607342207829987\n",
      "RMSE: 17391.301358216788\n"
     ]
    }
   ],
   "source": [
    "#Compute R-Squared\n",
    "r_squared = pipeline.score(X_test, y_test)\n",
    "\n",
    "#Compute RMSE\n",
    "rmse = mean_squared_error(y_test, y_pred, squared = False)\n",
    "\n",
    "# Print the metrics\n",
    "print(\"R^2: {}\".format(r_squared))\n",
    "print(\"RMSE: {}\".format(rmse))"
   ]
  },
  {
   "cell_type": "markdown",
   "id": "b3849d6c-d910-45f6-b38a-2a16b6f8cc12",
   "metadata": {},
   "source": [
    "So, we have a R^2 = 0, meaning that this linear regression model explains none of the variability of data.\n",
    "\n",
    "So we have two options here,\n",
    "\n",
    "- Or we give up (I don't think so ;) )\n",
    "- Or we include the two new variables, Sales per Area & Sales per Customer Store"
   ]
  },
  {
   "cell_type": "markdown",
   "id": "39e439ef-b1f2-4c2f-97c6-88b292426406",
   "metadata": {},
   "source": [
    "Model 2"
   ]
  },
  {
   "cell_type": "code",
   "execution_count": 105,
   "id": "dad4de41-dc45-4315-9c7c-7fc779f644d0",
   "metadata": {},
   "outputs": [
    {
     "name": "stdout",
     "output_type": "stream",
     "text": [
      "Predictions: [ 49782.45876846 108378.4640114 ], Actual Values: [49720 94370]\n"
     ]
    }
   ],
   "source": [
    "#Create arrays\n",
    "X = stores.drop(['Store_Sales'], axis = 'columns').values\n",
    "y = stores['Store_Sales'].values\n",
    "\n",
    "#Divide the data into train and datates\n",
    "X_train, X_test, y_train, y_test = train_test_split(X,y, test_size = 0.3, random_state = 42)\n",
    "\n",
    "#Start StandardScaler - Standardizing the data\n",
    "scaler = StandardScaler()\n",
    "\n",
    "#Start Linear Regression\n",
    "lreg = LinearRegression()\n",
    "\n",
    "#pipeline\n",
    "pipeline = make_pipeline(scaler,lreg)\n",
    "\n",
    "#Fit the model\n",
    "pipeline.fit(X_train, y_train)\n",
    "\n",
    "#Predict the values\n",
    "y_pred = pipeline.predict(X_test)\n",
    "\n",
    "print(\"Predictions: {}, Actual Values: {}\".format(y_pred[:2], y_test[:2]))"
   ]
  },
  {
   "cell_type": "markdown",
   "id": "48901c41-927f-41f2-aabb-9368f0881eac",
   "metadata": {},
   "source": [
    "Looking at the Prediction the first one is very similar to real one.\n",
    "\n",
    "Second one is not that far away. So I believe would be way better than the first one, but let's how well the model explain the variance."
   ]
  },
  {
   "cell_type": "code",
   "execution_count": 106,
   "id": "e37396b7-cab6-4d03-a492-876dd1234d7d",
   "metadata": {},
   "outputs": [
    {
     "name": "stdout",
     "output_type": "stream",
     "text": [
      "R^2: 0.9672037932101636\n",
      "RMSE: 3149.263418694109\n"
     ]
    }
   ],
   "source": [
    "#Compute R-Squared\n",
    "r_squared = pipeline.score(X_test, y_test)\n",
    "\n",
    "#Compute RMSE\n",
    "rmse = mean_squared_error(y_test, y_pred, squared = False)\n",
    "\n",
    "# Print the metrics\n",
    "print(\"R^2: {}\".format(r_squared))\n",
    "print(\"RMSE: {}\".format(rmse))"
   ]
  },
  {
   "cell_type": "markdown",
   "id": "79fdb9c5-8b97-43c4-9e43-cd3ffcdda537",
   "metadata": {},
   "source": [
    "Nice!!!\n",
    "\n",
    "Not only we had a very high R^2, explaining 96 of the variance in the data, but our RMSE is almost 6 times lower than the first one!!\n",
    "\n",
    "But now, how do we know that Linear Regression is the best model.\n",
    "\n",
    "Let's verify Ridge. Ridge regression  is to shrink features close to 0, to verify if overfitting and underfitting occurs.\n",
    "\n",
    "- Ridge penalizes large positive or negative corefficients\n",
    "- Ridge verifies that with increase of alpha what happens to our R^2 (Greater alpha, possible overfitting | Lower alpha, underfitting)"
   ]
  },
  {
   "cell_type": "code",
   "execution_count": 107,
   "id": "c945d1a2-db34-441c-893b-ebae259bd264",
   "metadata": {
    "tags": []
   },
   "outputs": [
    {
     "name": "stdout",
     "output_type": "stream",
     "text": [
      "[0.9672413513448629, 0.9675133536400851, 0.9682817110822809, 0.9685424023540068, 0.968112084636885, 0.9607231696015641]\n"
     ]
    }
   ],
   "source": [
    "alphas = [0.1, 1.0, 10.0, 100.0, 1000.0, 10000.0]\n",
    "ridge_scores = []\n",
    "for alpha in alphas:\n",
    "  \n",
    "    # Create a Ridge regression model\n",
    "    ridge = Ridge(alpha=alpha)\n",
    "  \n",
    "    # Fit the data\n",
    "    ridge.fit(X_train,y_train)\n",
    "  \n",
    "    # Obtain R-squared\n",
    "    score = ridge.score(X_test, y_test)\n",
    "    ridge_scores.append(score)\n",
    "print(ridge_scores)"
   ]
  },
  {
   "cell_type": "markdown",
   "id": "ed573c7d-7286-4761-b26c-747e87427a50",
   "metadata": {},
   "source": [
    "The scores don't appear to change much as alpha increases, which is indicative \n",
    "of how well the features explain the variance in the target—even by heavily penalizing large coefficients, underfitting does not occur!"
   ]
  },
  {
   "cell_type": "markdown",
   "id": "3ab57c3e-bab5-48ee-9148-2a5e00fbef41",
   "metadata": {},
   "source": [
    "## What is/are the features that influence our model the most?"
   ]
  },
  {
   "cell_type": "markdown",
   "id": "fcd1b982-3a77-4768-a63e-41b5cfa4bbed",
   "metadata": {
    "jp-MarkdownHeadingCollapsed": true,
    "tags": []
   },
   "source": [
    "Lasso allow us to easy understand what are the features that most influence our model.\n",
    "\n",
    "Lasso sets some features to 0, eliminating those features from the model instead of minimizing their impacts.\n",
    "\n",
    "Let's firs initiate Lasso."
   ]
  },
  {
   "cell_type": "code",
   "execution_count": 110,
   "id": "f182fd4a-57b9-406f-81a4-62c04eff9b1e",
   "metadata": {},
   "outputs": [
    {
     "name": "stdout",
     "output_type": "stream",
     "text": [
      "Tuned lasso paramaters: {'alpha': 0.01}\n",
      "Tuned lasso score: 0.9515492350078215\n"
     ]
    }
   ],
   "source": [
    "# Set up the parameter grid\n",
    "param_grid = {\"alpha\": np.linspace(0.01, 1, 50)}\n",
    "\n",
    "kf = KFold(n_splits=5, shuffle=True, random_state=5)\n",
    "\n",
    "lasso = Lasso(alpha=0.3, max_iter=1000000)\n",
    "\n",
    "# Instantiate lasso_cv\n",
    "lasso_cv = GridSearchCV(lasso, param_grid, cv=kf)\n",
    "\n",
    "scaler = StandardScaler()\n",
    "scaler.fit_transform(X_train,X_train)\n",
    "\n",
    "# Fit to the training data\n",
    "lasso_cv.fit(X_train, y_train)\n",
    "print(\"Tuned lasso paramaters: {}\".format(lasso_cv.best_params_))\n",
    "print(\"Tuned lasso score: {}\".format(lasso_cv.best_score_))"
   ]
  },
  {
   "cell_type": "markdown",
   "id": "1828997f-81aa-4757-96dd-97dd9202cec5",
   "metadata": {},
   "source": [
    "Lasso has similar results to Linear Regression 0.95 < 0.96 for an hyperparameter tuning of alpha = 0.01\n",
    "\n",
    "Let's now verify which features more contribute to our model."
   ]
  },
  {
   "cell_type": "code",
   "execution_count": 114,
   "id": "0e835ad3-477d-4fbf-9f61-12b001ac79e6",
   "metadata": {},
   "outputs": [
    {
     "name": "stdout",
     "output_type": "stream",
     "text": [
      "[-2.89759547e+01  5.70558395e+01  1.26886077e+00  8.16999260e+00\n",
      " -1.16039630e+03  3.01022480e+03]\n"
     ]
    },
    {
     "data": {
      "image/png": "[encoded data removed]",
      "text/plain": [
       "<Figure size 432x288 with 1 Axes>"
      ]
     },
     "metadata": {
      "needs_background": "light"
     },
     "output_type": "display_data"
    }
   ],
   "source": [
    "sales_columns = stores.drop(['Store_Sales'], axis = 'columns').columns\n",
    "# Instantiate a lasso regression model\n",
    "lasso = Lasso(alpha=0.01, max_iter=1000000)\n",
    "\n",
    "# Fit the model to the data\n",
    "lasso.fit(X, y)\n",
    "\n",
    "# Compute and print the coefficients\n",
    "lasso_coef = lasso.fit(X,y).coef_\n",
    "print(lasso_coef)\n",
    "plt.bar(sales_columns, lasso_coef)\n",
    "plt.xticks(rotation=45)\n",
    "plt.show()"
   ]
  },
  {
   "cell_type": "markdown",
   "id": "8b6092bb-e745-4f8c-ad02-9a3a14ea9a1f",
   "metadata": {},
   "source": [
    "See how the figure makes it clear that Sales_per_Items_Available is the most important feature in the treated dataset \n",
    "to predict sales values!"
   ]
  },
  {
   "cell_type": "code",
   "execution_count": 129,
   "id": "ba1b8d07-090b-4acd-b7ef-21f36c4573c3",
   "metadata": {},
   "outputs": [],
   "source": [
    "def plot_scatter(num_graphs, columns, data):\n",
    "    fig, ax = plt.subplots((num_graphs), figsize = (10,8))\n",
    "    count = 0\n",
    "    for i in stores[columns]:\n",
    "        graph = sns.scatterplot(x = 'Store_Sales', y = i, data = data, ax = ax[count])\n",
    "        count += 1\n",
    "    return graph"
   ]
  },
  {
   "cell_type": "code",
   "execution_count": 132,
   "id": "11d89063-f518-410c-bdd6-90bac09405b6",
   "metadata": {},
   "outputs": [
    {
     "data": {
      "text/plain": [
       "<AxesSubplot:xlabel='Store_Sales', ylabel='Sales_per_Items_Available'>"
      ]
     },
     "execution_count": 132,
     "metadata": {},
     "output_type": "execute_result"
    },
    {
     "data": {
      "image/png": "[encoded data removed]",
      "text/plain": [
       "<Figure size 720x576 with 3 Axes>"
      ]
     },
     "metadata": {
      "needs_background": "light"
     },
     "output_type": "display_data"
    }
   ],
   "source": [
    "plot_scatter(3,['Sales_per_Customer_Store','Sales_per_Area','Sales_per_Items_Available'], stores)"
   ]
  },
  {
   "cell_type": "markdown",
   "id": "5aa0341c-a64a-48fe-92d0-f986611b62f6",
   "metadata": {},
   "source": [
    "## Conclusion"
   ]
  },
  {
   "cell_type": "markdown",
   "id": "721f5107-716f-4ace-9269-9fbc437df44c",
   "metadata": {},
   "source": [
    "We were a able to develop a Model to predict Sales per Store.\n",
    "\n",
    "We 'add' 3 new variables, Sales per customer in store, Sales_per_area (m^2) and Sales per Items Available to check correlation and to add the model three new variables that could be capital, as we could.\n",
    "\n",
    "The model achieved an explained variance of 96%, what was really satisfying, RMSE (sum of errors between real and predict values) was lower too.\n",
    "\n",
    "Ridge was used to shrink the features to near 0 and evaluate the model with under and overfitting. The model responded well and keep the efficiency without showing signs of under or overfitting.\n",
    "\n",
    "Lasso was finally used to shrink some features to 0 and to work with those that are more significant, we verify that Sales per Item Available was the most important feature to predict sales in the different stores."
   ]
  },
  {
   "cell_type": "markdown",
   "id": "4d25134f-7762-4b45-a5be-c0e7eba22fee",
   "metadata": {},
   "source": [
    "## Next Steps"
   ]
  },
  {
   "cell_type": "markdown",
   "id": "98efed1a-6b87-4d0c-80b8-eeb801874587",
   "metadata": {},
   "source": [
    "As we could se for the graphs above Sales per m^2 & Sales per item is where the revenue increases the most.\n",
    "\n",
    "As expand the store is not always possible and requires a big investment, we should focus the next analysis in Sales per items (It is the most important for our predicting model too).\n",
    "\n",
    "And we suggest that,\n",
    "\n",
    "- Clustering Analysis should be done between the items sold.\n",
    "\n",
    "- We should verify in stores with lower variability of product, which are the products that we could reduce withou impact to much the selling of this.\n",
    "\n",
    "- We should cluster the stores with biggest items and verify which are the products that people buy more that are not in the smaller stores.\n",
    "\n",
    "- After this analysis we should propose a new arrangement of products for each store."
   ]
  }
 ],
 "metadata": {
  "kernelspec": {
   "display_name": "Python 3 (ipykernel)",
   "language": "python",
   "name": "python3"
  },
  "language_info": {
   "codemirror_mode": {
    "name": "ipython",
    "version": 3
   },
   "file_extension": ".py",
   "mimetype": "text/x-python",
   "name": "python",
   "nbconvert_exporter": "python",
   "pygments_lexer": "ipython3",
   "version": "3.8.12"
  }
 },
 "nbformat": 4,
 "nbformat_minor": 5
}
